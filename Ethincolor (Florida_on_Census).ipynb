{
 "cells": [
  {
   "cell_type": "code",
   "execution_count": 59,
   "metadata": {},
   "outputs": [],
   "source": [
    "import ethnicolr as ethc\n",
    "import pandas as pd\n",
    "import numpy as np\n",
    "import sklearn.metrics as met"
   ]
  },
  {
   "cell_type": "code",
   "execution_count": 21,
   "metadata": {},
   "outputs": [],
   "source": [
    "cs = pd.read_excel(\"~/Desktop/census_2010.xlsx\")"
   ]
  },
  {
   "cell_type": "code",
   "execution_count": 22,
   "metadata": {},
   "outputs": [],
   "source": [
    "# Drop unimportant columns/The \"ALL OTHER NAMES\" row\n",
    "cs = cs.drop(columns = [\"rank\", \"count\", \"prop100k\", \"cum_prop100k\", \"pctaian\", \"pct2prace\"])\n",
    "cs = cs.drop([162253])"
   ]
  },
  {
   "cell_type": "code",
   "execution_count": 24,
   "metadata": {},
   "outputs": [],
   "source": [
    "# Replaced hidden values with 0's\n",
    "cs = cs.replace({\"(S)\": 0})"
   ]
  },
  {
   "cell_type": "code",
   "execution_count": 40,
   "metadata": {},
   "outputs": [],
   "source": [
    "def race_actual(row):\n",
    "    race_id = np.argmax([row['pctwhite'],row['pctblack'],row['pctapi'],row['pcthispanic']])\n",
    "    race_id_to_name = {0: \"nh_white\", 1: \"nh_black\", 2: \"asian\", 3: \"hispanic\"}\n",
    "    race_name = race_id_to_name[race_id]\n",
    "    return race_name\n",
    "cs[\"race_actual\"] = cs.apply(race_actual, axis = 1)"
   ]
  },
  {
   "cell_type": "code",
   "execution_count": 41,
   "metadata": {},
   "outputs": [],
   "source": [
    "output = ethc.pred_fl_reg_ln(cs, \"name\")"
   ]
  },
  {
   "cell_type": "code",
   "execution_count": 48,
   "metadata": {},
   "outputs": [],
   "source": [
    "race_actual_pred = output.drop(columns = [\"pctwhite\", \"pctblack\", \"pctapi\", \"pcthispanic\", \"nh_white\", \"asian\", \"nh_black\", \"hispanic\"])\n",
    "race_actual_pred = race_actual_pred.rename(columns = {\"race\": \"race_pred\"})"
   ]
  },
  {
   "cell_type": "code",
   "execution_count": 56,
   "metadata": {},
   "outputs": [
    {
     "data": {
      "text/plain": [
       "array(['nh_white', 'nh_black', 'hispanic', 'asian', 'None'], dtype=object)"
      ]
     },
     "execution_count": 56,
     "metadata": {},
     "output_type": "execute_result"
    }
   ],
   "source": [
    "race_actual_pred = race_actual_pred.fillna('None')"
   ]
  },
  {
   "cell_type": "code",
   "execution_count": 65,
   "metadata": {},
   "outputs": [],
   "source": [
    "y_true = race_actual_pred[\"race_actual\"]\n",
    "y_pred = race_actual_pred[\"race_pred\"]\n",
    "labels = [\"nh_white\", \"nh_black\", \"asian\", \"hispanic\", \"None\"]"
   ]
  },
  {
   "cell_type": "code",
   "execution_count": 66,
   "metadata": {},
   "outputs": [
    {
     "data": {
      "text/plain": [
       "array([[130905,    882,    487,   1466,      1],\n",
       "       [  6617,    984,    151,    105,      0],\n",
       "       [  6255,    116,   2219,    769,      0],\n",
       "       [  5560,     83,     69,   5584,      0],\n",
       "       [     0,      0,      0,      0,      0]])"
      ]
     },
     "execution_count": 66,
     "metadata": {},
     "output_type": "execute_result"
    }
   ],
   "source": [
    "met.confusion_matrix(y_true, y_pred, labels = labels)"
   ]
  },
  {
   "cell_type": "code",
   "execution_count": 73,
   "metadata": {},
   "outputs": [
    {
     "name": "stdout",
     "output_type": "stream",
     "text": [
      "0.8609517235428621\n"
     ]
    }
   ],
   "source": [
    "print(met.accuracy_score(y_true, y_pred))"
   ]
  },
  {
   "cell_type": "code",
   "execution_count": 74,
   "metadata": {},
   "outputs": [
    {
     "name": "stdout",
     "output_type": "stream",
     "text": [
      "[0.87657446 0.47651332 0.75837321 0.7046946  0.        ]\n",
      "0.8384175016068367\n"
     ]
    }
   ],
   "source": [
    "print(met.precision_score(y_true, y_pred, average=None, labels = labels))\n",
    "print(met.precision_score(y_true, y_pred, average='weighted', labels = labels))"
   ]
  },
  {
   "cell_type": "code",
   "execution_count": 75,
   "metadata": {},
   "outputs": [
    {
     "name": "stdout",
     "output_type": "stream",
     "text": [
      "[0.97879483 0.12523864 0.23709798 0.49433428 0.        ]\n",
      "0.8609517235428621\n"
     ]
    }
   ],
   "source": [
    "print(met.recall_score(y_true, y_pred, average=None, labels = labels))\n",
    "print(met.recall_score(y_true, y_pred, average='weighted', labels = labels))"
   ]
  },
  {
   "cell_type": "code",
   "execution_count": 76,
   "metadata": {},
   "outputs": [
    {
     "name": "stdout",
     "output_type": "stream",
     "text": [
      "[0.92486876 0.19834711 0.36125356 0.58106139 0.        ]\n",
      "0.8332414697509095\n"
     ]
    }
   ],
   "source": [
    "print(met.f1_score(y_true, y_pred, average=None, labels = labels))\n",
    "print(met.f1_score(y_true, y_pred, average='weighted', labels = labels))"
   ]
  },
  {
   "cell_type": "code",
   "execution_count": null,
   "metadata": {},
   "outputs": [],
   "source": []
  }
 ],
 "metadata": {
  "kernelspec": {
   "display_name": "Python 3",
   "language": "python",
   "name": "python3"
  },
  "language_info": {
   "codemirror_mode": {
    "name": "ipython",
    "version": 3
   },
   "file_extension": ".py",
   "mimetype": "text/x-python",
   "name": "python",
   "nbconvert_exporter": "python",
   "pygments_lexer": "ipython3",
   "version": "3.7.5"
  }
 },
 "nbformat": 4,
 "nbformat_minor": 4
}
